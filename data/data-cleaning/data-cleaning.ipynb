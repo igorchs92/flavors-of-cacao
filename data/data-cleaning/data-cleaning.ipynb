{
 "cells": [
  {
   "cell_type": "markdown",
   "metadata": {},
   "source": [
    "# Flavors of Cacao: Cleaning the data\n",
    "\n",
    "Original dataset can be found on the Kaggle dataset submition: \n",
    "[Chocolate Bar Ratings](https://www.kaggle.com/rtatman/chocolate-bar-ratings)."
   ]
  },
  {
   "cell_type": "code",
   "execution_count": 1,
   "metadata": {
    "scrolled": false
   },
   "outputs": [
    {
     "name": "stdout",
     "output_type": "stream",
     "text": [
      "python version 3.6.1 |Anaconda 4.4.0 (64-bit)| (default, May 11 2017, 13:25:24) [MSC v.1900 64 bit (AMD64)]\n",
      "pandas version 0.20.1\n",
      "\n",
      "Loading data from 'flavors_of_cacao.csv'.\n",
      "\n",
      "Assigning new column names:\n",
      "+ Company \\n(Maker-if known) --> companyName\n",
      "+ Specific Bean Origin\\nor Bar Name --> name\n",
      "+ REF --> ref\n",
      "+ Review\\nDate --> reviewDate\n",
      "+ Cocoa\\nPercent --> cacaoPercentage\n",
      "+ Company\\nLocation --> companyLocation\n",
      "+ Rating --> rating\n",
      "+ Bean\\nType --> beanType\n",
      "+ Broad Bean\\nOrigin --> beanOrigin\n",
      "\n",
      "Cleaning the data:\n",
      "+ Replacing companyLocation values with 'Netherlands' where the value is 'Amsterdam'.\n",
      "+ Replacing companyLocation values with 'the Netherlands' where the value is 'Netherlands'.\n",
      "\n",
      "Saving data as 'flavors_of_cacao(clean).csv'.\n"
     ]
    }
   ],
   "source": [
    "import sys\n",
    "import pandas as pd\n",
    "\n",
    "print(\"python version\", sys.version)\n",
    "print(\"pandas version\", pd.__version__)\n",
    "\n",
    "# declare function 'printp' to print lines as a paraph\n",
    "def printp(*args):\n",
    "    if len(args) > 0:\n",
    "        args = list(args)  # convert args to a mutable list\n",
    "        args[0] = \"\\n\" + args[0]\n",
    "    print(*args)\n",
    "\n",
    "    \n",
    "# declare function 'printli' to print lines as a list item\n",
    "def printli(*v):\n",
    "    print(\"+\", *v)\n",
    "\n",
    "\n",
    "# file loading / saving variables\n",
    "file_name = \"flavors_of_cacao\"\n",
    "file_ext = \".csv\"\n",
    "file_input = file_name + file_ext\n",
    "file_output = file_name + \"(clean)\" + file_ext\n",
    "\n",
    "\n",
    "printp(\"Loading data from '\" + file_input + \"'.\")\n",
    "df = pd.read_csv(file_input)  # read csv using pandas\n",
    "\n",
    "\n",
    "printp(\"Assigning new column names:\")\n",
    "df_columns_new = [\"companyName\",      # [0]: Company \\n(Maker-if known)\n",
    "                  \"name\",             # [1]: Specific Bean Origin\\nor Bar Name\n",
    "                  \"ref\",              # [2]: REF\n",
    "                  \"reviewDate\",       # [3]: Review\\nDate\n",
    "                  \"cacaoPercentage\",  # [4]: Cocoa\\nPercent\n",
    "                  \"companyLocation\",  # [5]: Company\\nLocation\n",
    "                  \"rating\",           # [6]: Rating\n",
    "                  \"beanType\",         # [7]: Bean\\nType\n",
    "                  \"beanOrigin\"]       # [8]: Broad Bean\\nOrigin\n",
    "\n",
    "# print the original and new column names for comparison\n",
    "for i, s in enumerate(df.columns):\n",
    "    printli(s.replace(\"\\n\", \"\\\\n\"), \"-->\", df_columns_new[i])\n",
    "\n",
    "df.columns = df_columns_new  # assign new column names to the dataframe\n",
    "\n",
    "\n",
    "printp(\"Cleaning the data:\")\n",
    "\n",
    "printli(\"Replacing companyLocation values with 'Netherlands' where the value is 'Amsterdam'.\")\n",
    "df.loc[df[\"companyLocation\"] == \"Amsterdam\", \"companyLocation\"] = \"Netherlands\"\n",
    "\n",
    "printli(\"Replacing companyLocation values with 'the Netherlands' where the value is 'Netherlands'.\")\n",
    "df.loc[df[\"companyLocation\"] == \"Netherlands\", \"companyLocation\"] = \"the Netherlands\"\n",
    "\n",
    "\n",
    "printp(\"Saving data as '\" + file_output + \"'.\")\n",
    "df.to_csv(file_output, index=False)"
   ]
  }
 ],
 "metadata": {
  "kernelspec": {
   "display_name": "Python 3",
   "language": "python",
   "name": "python3"
  },
  "language_info": {
   "codemirror_mode": {
    "name": "ipython",
    "version": 3
   },
   "file_extension": ".py",
   "mimetype": "text/x-python",
   "name": "python",
   "nbconvert_exporter": "python",
   "pygments_lexer": "ipython3",
   "version": "3.6.1"
  }
 },
 "nbformat": 4,
 "nbformat_minor": 2
}
